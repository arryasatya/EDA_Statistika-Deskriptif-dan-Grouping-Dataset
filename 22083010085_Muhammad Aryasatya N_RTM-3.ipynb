{
 "cells": [
  {
   "cell_type": "markdown",
   "id": "6ded190f",
   "metadata": {},
   "source": [
    "#### *Muhammad Aryasatya N (22083010085) - RTM 3 - Analisis Data Eksploratif (A)*"
   ]
  },
  {
   "cell_type": "markdown",
   "id": "804719a9",
   "metadata": {},
   "source": [
    "### 1. Statistika Deskriptif (Distribusi Uniform, Distribusi Normal, Skewness, dan Kurtosis)"
   ]
  },
  {
   "cell_type": "markdown",
   "id": "49936af9",
   "metadata": {},
   "source": [
    "a. Distribusi Uniform"
   ]
  },
  {
   "cell_type": "code",
   "execution_count": 15,
   "id": "b95b1b2d",
   "metadata": {},
   "outputs": [
    {
     "data": {
      "text/html": [
       "<div>\n",
       "<style scoped>\n",
       "    .dataframe tbody tr th:only-of-type {\n",
       "        vertical-align: middle;\n",
       "    }\n",
       "\n",
       "    .dataframe tbody tr th {\n",
       "        vertical-align: top;\n",
       "    }\n",
       "\n",
       "    .dataframe thead th {\n",
       "        text-align: right;\n",
       "    }\n",
       "</style>\n",
       "<table border=\"1\" class=\"dataframe\">\n",
       "  <thead>\n",
       "    <tr style=\"text-align: right;\">\n",
       "      <th></th>\n",
       "      <th>x</th>\n",
       "    </tr>\n",
       "  </thead>\n",
       "  <tbody>\n",
       "    <tr>\n",
       "      <th>0</th>\n",
       "      <td>2.7</td>\n",
       "    </tr>\n",
       "    <tr>\n",
       "      <th>1</th>\n",
       "      <td>8.2</td>\n",
       "    </tr>\n",
       "    <tr>\n",
       "      <th>2</th>\n",
       "      <td>8.4</td>\n",
       "    </tr>\n",
       "    <tr>\n",
       "      <th>3</th>\n",
       "      <td>1.9</td>\n",
       "    </tr>\n",
       "    <tr>\n",
       "      <th>4</th>\n",
       "      <td>9.7</td>\n",
       "    </tr>\n",
       "    <tr>\n",
       "      <th>5</th>\n",
       "      <td>7.8</td>\n",
       "    </tr>\n",
       "    <tr>\n",
       "      <th>6</th>\n",
       "      <td>7.7</td>\n",
       "    </tr>\n",
       "    <tr>\n",
       "      <th>7</th>\n",
       "      <td>4.7</td>\n",
       "    </tr>\n",
       "    <tr>\n",
       "      <th>8</th>\n",
       "      <td>5.9</td>\n",
       "    </tr>\n",
       "    <tr>\n",
       "      <th>9</th>\n",
       "      <td>2.1</td>\n",
       "    </tr>\n",
       "    <tr>\n",
       "      <th>10</th>\n",
       "      <td>8.1</td>\n",
       "    </tr>\n",
       "    <tr>\n",
       "      <th>11</th>\n",
       "      <td>9.1</td>\n",
       "    </tr>\n",
       "    <tr>\n",
       "      <th>12</th>\n",
       "      <td>11.0</td>\n",
       "    </tr>\n",
       "    <tr>\n",
       "      <th>13</th>\n",
       "      <td>6.0</td>\n",
       "    </tr>\n",
       "    <tr>\n",
       "      <th>14</th>\n",
       "      <td>7.2</td>\n",
       "    </tr>\n",
       "    <tr>\n",
       "      <th>15</th>\n",
       "      <td>9.4</td>\n",
       "    </tr>\n",
       "    <tr>\n",
       "      <th>16</th>\n",
       "      <td>8.1</td>\n",
       "    </tr>\n",
       "    <tr>\n",
       "      <th>17</th>\n",
       "      <td>7.1</td>\n",
       "    </tr>\n",
       "    <tr>\n",
       "      <th>18</th>\n",
       "      <td>8.1</td>\n",
       "    </tr>\n",
       "    <tr>\n",
       "      <th>19</th>\n",
       "      <td>2.6</td>\n",
       "    </tr>\n",
       "    <tr>\n",
       "      <th>20</th>\n",
       "      <td>2.7</td>\n",
       "    </tr>\n",
       "    <tr>\n",
       "      <th>21</th>\n",
       "      <td>5.4</td>\n",
       "    </tr>\n",
       "    <tr>\n",
       "      <th>22</th>\n",
       "      <td>7.6</td>\n",
       "    </tr>\n",
       "    <tr>\n",
       "      <th>23</th>\n",
       "      <td>1.5</td>\n",
       "    </tr>\n",
       "    <tr>\n",
       "      <th>24</th>\n",
       "      <td>9.1</td>\n",
       "    </tr>\n",
       "    <tr>\n",
       "      <th>25</th>\n",
       "      <td>4.6</td>\n",
       "    </tr>\n",
       "    <tr>\n",
       "      <th>26</th>\n",
       "      <td>10.0</td>\n",
       "    </tr>\n",
       "    <tr>\n",
       "      <th>27</th>\n",
       "      <td>1.9</td>\n",
       "    </tr>\n",
       "    <tr>\n",
       "      <th>28</th>\n",
       "      <td>3.8</td>\n",
       "    </tr>\n",
       "    <tr>\n",
       "      <th>29</th>\n",
       "      <td>3.0</td>\n",
       "    </tr>\n",
       "    <tr>\n",
       "      <th>30</th>\n",
       "      <td>9.9</td>\n",
       "    </tr>\n",
       "    <tr>\n",
       "      <th>31</th>\n",
       "      <td>3.6</td>\n",
       "    </tr>\n",
       "    <tr>\n",
       "      <th>32</th>\n",
       "      <td>5.0</td>\n",
       "    </tr>\n",
       "    <tr>\n",
       "      <th>33</th>\n",
       "      <td>3.9</td>\n",
       "    </tr>\n",
       "    <tr>\n",
       "      <th>34</th>\n",
       "      <td>7.4</td>\n",
       "    </tr>\n",
       "    <tr>\n",
       "      <th>35</th>\n",
       "      <td>9.4</td>\n",
       "    </tr>\n",
       "    <tr>\n",
       "      <th>36</th>\n",
       "      <td>1.2</td>\n",
       "    </tr>\n",
       "    <tr>\n",
       "      <th>37</th>\n",
       "      <td>6.1</td>\n",
       "    </tr>\n",
       "    <tr>\n",
       "      <th>38</th>\n",
       "      <td>8.7</td>\n",
       "    </tr>\n",
       "    <tr>\n",
       "      <th>39</th>\n",
       "      <td>8.0</td>\n",
       "    </tr>\n",
       "  </tbody>\n",
       "</table>\n",
       "</div>"
      ],
      "text/plain": [
       "       x\n",
       "0    2.7\n",
       "1    8.2\n",
       "2    8.4\n",
       "3    1.9\n",
       "4    9.7\n",
       "5    7.8\n",
       "6    7.7\n",
       "7    4.7\n",
       "8    5.9\n",
       "9    2.1\n",
       "10   8.1\n",
       "11   9.1\n",
       "12  11.0\n",
       "13   6.0\n",
       "14   7.2\n",
       "15   9.4\n",
       "16   8.1\n",
       "17   7.1\n",
       "18   8.1\n",
       "19   2.6\n",
       "20   2.7\n",
       "21   5.4\n",
       "22   7.6\n",
       "23   1.5\n",
       "24   9.1\n",
       "25   4.6\n",
       "26  10.0\n",
       "27   1.9\n",
       "28   3.8\n",
       "29   3.0\n",
       "30   9.9\n",
       "31   3.6\n",
       "32   5.0\n",
       "33   3.9\n",
       "34   7.4\n",
       "35   9.4\n",
       "36   1.2\n",
       "37   6.1\n",
       "38   8.7\n",
       "39   8.0"
      ]
     },
     "execution_count": 15,
     "metadata": {},
     "output_type": "execute_result"
    }
   ],
   "source": [
    "import pandas as pd\n",
    "\n",
    "ph = pd.read_csv(\"ph.csv\", sep=';', decimal=',')\n",
    "ph "
   ]
  },
  {
   "cell_type": "markdown",
   "id": "ae7146d9",
   "metadata": {},
   "source": [
    "Berapa persentase probabilitas x < 5 berdasarkan persamaan dalam distribusi\n",
    "uniform dengan menggunakan kode script pemrograman Python secara scratch"
   ]
  },
  {
   "cell_type": "code",
   "execution_count": 9,
   "id": "1e07dcf5",
   "metadata": {},
   "outputs": [
    {
     "name": "stdout",
     "output_type": "stream",
     "text": [
      "Nama kolom dataset ph:\n"
     ]
    },
    {
     "data": {
      "text/plain": [
       "Index(['x'], dtype='object')"
      ]
     },
     "execution_count": 9,
     "metadata": {},
     "output_type": "execute_result"
    }
   ],
   "source": [
    "kolom = ph.columns\n",
    "\n",
    "print(\"Nama kolom dataset ph:\")\n",
    "kolom"
   ]
  },
  {
   "cell_type": "markdown",
   "id": "5a3e1ba3",
   "metadata": {},
   "source": [
    "a) Carilah nilai a dan b terlebih dahulu"
   ]
  },
  {
   "cell_type": "code",
   "execution_count": 10,
   "id": "f5ba7e31",
   "metadata": {},
   "outputs": [
    {
     "name": "stdout",
     "output_type": "stream",
     "text": [
      "Mean Dataset ph: 6.214999999999999\n",
      "Standar Deviasi ph: 2.798709524048539\n"
     ]
    }
   ],
   "source": [
    "data_ph = ph[\"x\"] \n",
    "\n",
    "mean = sum(data_ph) / len(data_ph)\n",
    "print(\"Mean Dataset ph:\", mean)\n",
    "\n",
    "varians = sum((i - mean) ** 2 for i in data_ph) / len(data_ph) \n",
    "std_dev = varians ** 0.5\n",
    "print(\"Standar Deviasi ph:\", std_dev)"
   ]
  },
  {
   "cell_type": "markdown",
   "id": "2b07ff8b",
   "metadata": {},
   "source": [
    "2) Gunakan Persamaan Mean Dan Standard Deviation Sebagai Bekal Untuk\n",
    "Mendapatkan Nilai A Dan B Sesuai Dengan Sifat Dasar Statistika Dalam\n",
    "Distribusi Uniform Yang Telah Di Tuliskan"
   ]
  },
  {
   "cell_type": "code",
   "execution_count": 11,
   "id": "6202e887",
   "metadata": {},
   "outputs": [
    {
     "name": "stdout",
     "output_type": "stream",
     "text": [
      "Nilai a + b Dari ph Dataset : 12.429999999999998\n",
      "Nilai b - a Dari ph Dataset : 9.69501418255796\n",
      "Nilai a Dari Distribusi Uniform : 1.3674929087210188\n",
      "Nilai b Dari Distribusi Uniform : 11.06250709127898\n"
     ]
    }
   ],
   "source": [
    "a_plus_b = 2 * mean\n",
    "print(\"Nilai a + b Dari ph Dataset :\", a_plus_b)\n",
    "\n",
    "b_min_a = std_dev * (12 ** 0.5)\n",
    "print(\"Nilai b - a Dari ph Dataset :\", b_min_a)\n",
    " \n",
    "a = (a_plus_b - b_min_a) / 2\n",
    "print(\"Nilai a Dari Distribusi Uniform :\", a)\n",
    "\n",
    "b = (a_plus_b + b_min_a) / 2\n",
    "print(\"Nilai b Dari Distribusi Uniform :\", b) "
   ]
  },
  {
   "cell_type": "markdown",
   "id": "88407c7d",
   "metadata": {},
   "source": [
    "3) Hitung Probabilitas Distribusi Uniform Berdasarkan Nilai A Dan\n",
    "B Yang Sudah Di Dapatkan Menggunakan Persamaan Yang Telah Di Tuliskan"
   ]
  },
  {
   "cell_type": "code",
   "execution_count": 12,
   "id": "bb377a0b",
   "metadata": {},
   "outputs": [
    {
     "name": "stdout",
     "output_type": "stream",
     "text": [
      "Probabilitas Uniform Dari Ph Dataset Dengan x < 5 Sebesar :  0.3746778522319366\n",
      "Presentase Probabilitas Uniform Ph Dataset Dengan x < 5 Sebesar :  37.46778522319366 %\n"
     ]
    }
   ],
   "source": [
    "#nilai x1 dan x2\n",
    "x1 = a\n",
    "x2 = 5\n",
    "\n",
    "# probabilitas uniform x < 5\n",
    "prob_uni = (1 / (b - a)) * (x2 - a)\n",
    "print(\"Probabilitas Uniform Dari Ph Dataset Dengan x < 5 Sebesar : \", prob_uni)\n",
    "\n",
    "# presentase probablitas uniform x < 5\n",
    "percent_prob = prob_uni * 100\n",
    "print(\"Presentase Probabilitas Uniform Ph Dataset Dengan x < 5 Sebesar : \", percent_prob, \"%\")"
   ]
  },
  {
   "cell_type": "markdown",
   "id": "c938ffe0",
   "metadata": {},
   "source": [
    "d) Visualisasikan dataset menggunakan histogram, periksalah apakah dataset\n",
    "berdistribusi uniform atau tidak. Jelaskan beserta alasannya."
   ]
  },
  {
   "cell_type": "code",
   "execution_count": 14,
   "id": "555b670f",
   "metadata": {
    "scrolled": true
   },
   "outputs": [
    {
     "data": {
      "image/png": "[encoded data removed]",
      "text/plain": [
       "<Figure size 648x360 with 1 Axes>"
      ]
     },
     "metadata": {
      "needs_background": "light"
     },
     "output_type": "display_data"
    }
   ],
   "source": [
    "import matplotlib.pyplot as plt\n",
    "\n",
    "#visualisasi histogram dataset ph.csv\n",
    "data_ph = ph[\"x\"] \n",
    "\n",
    "plt.figure(figsize = (9, 5))\n",
    "plt.hist(data_ph, bins = 20, density = True, color = \"cyan\", alpha = 0.6, edgecolor = \"black\")\n",
    "plt.title(\"Histogram Distribusi Dataset Ph\", size = 15, color = \"black\")\n",
    "plt.xlabel(\"Nilai Distribusi Data Ph\", size = 13, color = \"black\")\n",
    "plt.ylabel(\"Frequency\", size = 13, color = \"black\")\n",
    "plt.grid(True)\n",
    "\n",
    "plt.show()"
   ]
  },
  {
   "cell_type": "markdown",
   "id": "d8965bbf",
   "metadata": {},
   "source": [
    "#### B. Distribusi Normal"
   ]
  },
  {
   "cell_type": "code",
   "execution_count": null,
   "id": "83dff845",
   "metadata": {},
   "outputs": [],
   "source": [
    "import pandas as pd\n",
    "\n",
    "normal_data = pd.read_csv(\"normal_distribution.csv\", sep=';', decimal=',')\n",
    "normal_data"
   ]
  },
  {
   "cell_type": "code",
   "execution_count": null,
   "id": "511defdd",
   "metadata": {
    "scrolled": true
   },
   "outputs": [],
   "source": [
    "# perhitungan f(x) menggunakan x di dataset normal\n",
    "column = normal_data[\"x\"]\n",
    " \n",
    "# hitung mean\n",
    "mean_normal = sum(column) / len(column)\n",
    "print(\"Nilai Mean Dari Normal Distribution Dataset: {:.3f}\".format(mean_normal))\n",
    "\n",
    "# hitung standar deviasi\n",
    "variance_normal = sum((i - mean_normal) ** 2 for i in column) / len(column)\n",
    "std_dev_normal = variance_normal ** 0.5\n",
    "print(\"Nilai Standar Deviasi Dari Normal Distribution Dataset: {:.3f}\".format(std_dev_normal))\n",
    "\n",
    "# hitung f(x)\n",
    "def normal_distribution(x, mean, std_dev):\n",
    "    eksponen_normal = (-(x - mean) ** 2) / (2 * std_dev ** 2)\n",
    "    persamaan_dist = (1 / (std_dev * ((2 * 3.141) ** 0.5))) * (2.718 ** eksponen_normal)\n",
    "    return persamaan_dist\n",
    "\n",
    "# masuk nilai function\n",
    "nilai_x = [normal_distribution(x, mean_normal, std_dev_normal) for x in column]\n",
    "print(\"Hasil Persamaan f(x) Dari Nilai x Yang Terdapat Pada Normal Distribution Dataset:\")\n",
    "\n",
    "# menampilkan hasil persamaan f(x) dari x yang terdapat di normal distribution dataset\n",
    "for i in range(len(column)):\n",
    "    x = column[i]\n",
    "    fx = nilai_x[i]\n",
    "    print(\"|Nilai x: {:<6.2f} | Persamaan f(x): {:.5f}|\".format(x, fx))"
   ]
  },
  {
   "cell_type": "code",
   "execution_count": null,
   "id": "2b4eba13",
   "metadata": {
    "scrolled": true
   },
   "outputs": [],
   "source": [
    "import matplotlib.pyplot as plt\n",
    "\n",
    "plt.figure(figsize = (9, 5))\n",
    "plt.plot(column, nilai_x, color = \"teal\", marker = \"o\", linestyle = \"-\")\n",
    "plt.title(\"Diagram Garis Hubungan Nilai X Dan F(X)\", fontsize = 15)\n",
    "plt.xlabel(\"Nilai X\", fontsize = 13, color = \"black\")\n",
    "plt.ylabel(\"Nilai F(X)\", fontsize = 13, color = \"black\")\n",
    "plt.tight_layout()\n",
    "plt.grid(True)\n",
    "\n",
    "plt.show()"
   ]
  },
  {
   "cell_type": "markdown",
   "id": "7f642df3",
   "metadata": {},
   "source": [
    "### c. Skewness"
   ]
  },
  {
   "cell_type": "code",
   "execution_count": null,
   "id": "71a80757",
   "metadata": {
    "scrolled": true
   },
   "outputs": [],
   "source": [
    "import pandas as pd\n",
    "\n",
    "skewness = pd.read_csv(\"skewness.csv\", sep=';', decimal=',')\n",
    "skewness"
   ]
  },
  {
   "cell_type": "code",
   "execution_count": null,
   "id": "8ac55919",
   "metadata": {
    "scrolled": true
   },
   "outputs": [],
   "source": [
    "# perhitungan f(x) menggunakan x di dataset normal\n",
    "column = skewness[\"x\"]\n",
    " \n",
    "# hitung mean\n",
    "mean_normal = sum(column) / len(column)\n",
    "print(\"Mean Normal Distribution Dataset: {:.3f}\".format(mean_normal))\n",
    "\n",
    "# hitung standar deviasi\n",
    "variance_normal = sum((i - mean_normal) ** 2 for i in column) / len(column)\n",
    "std_dev_normal = variance_normal ** 0.5\n",
    "print(\"Standar Deviasi Normal Distribution Dataset: {:.3f}\".format(std_dev_normal))\n",
    "\n",
    "# hitung f(x)\n",
    "def normal_distribution(x, mean, std_dev):\n",
    "    eksponen_normal = (-(x - mean) ** 2) / (2 * std_dev ** 2)\n",
    "    persamaan_dist = (1 / (std_dev * ((2 * 3.141) ** 0.5))) * (2.718 ** eksponen_normal)\n",
    "    return persamaan_dist\n",
    "\n",
    "# masuk nilai function\n",
    "nilai_x = [normal_distribution(x, mean_normal, std_dev_normal) for x in column]\n",
    "print(\"Persamaan f(x) Dari Nilai x Pada Normal Distribution Dataset:\")\n",
    "\n",
    "# penampilan hasil persamaan f(x) dari x yang terdapat di normal distribution dataset\n",
    "for i in range(len(column)):\n",
    "    x = column[i]\n",
    "    fx = nilai_x[i]\n",
    "    print(\"|Nilai x: {:<6.2f} | Persamaan f(x): {:.5f}|\".format(x, fx))\n",
    "    \n",
    "# Hitung skewness\n",
    "median_normal = column.median()   # Untuk menghitung skewness, kita gunakan mean\n",
    "skewness = (3 * (mean_normal - median_normal)) / std_dev_normal\n",
    "print(\"Skewness dari dataset adalah:\", skewness)"
   ]
  },
  {
   "cell_type": "code",
   "execution_count": null,
   "id": "927e0782",
   "metadata": {},
   "outputs": [],
   "source": [
    "plt.plot(column, nilai_x, marker='o', linestyle='-')\n",
    "plt.plot(column, nilai_x)\n",
    "plt.xlabel(\"Nilai x\")\n",
    "plt.ylabel(\"f(x)\")\n",
    "plt.title(\"Visualisasi Skewness\") \n",
    "plt.grid(True)\n",
    "plt.show()"
   ]
  },
  {
   "cell_type": "markdown",
   "id": "c3a73f85",
   "metadata": {},
   "source": [
    "### d) Kurtosis"
   ]
  },
  {
   "cell_type": "code",
   "execution_count": null,
   "id": "2d070707",
   "metadata": {},
   "outputs": [],
   "source": [
    "import pandas as pd\n",
    "\n",
    "kurtosis = pd.read_csv(\"kurtosis.csv\", sep=';', decimal=',') \n",
    "kurtosis"
   ]
  },
  {
   "cell_type": "code",
   "execution_count": null,
   "id": "fc10305e",
   "metadata": {
    "scrolled": true
   },
   "outputs": [],
   "source": [
    "import numpy as np\n",
    "\n",
    "# perhitungan f(x) menggunakan x di dataset kurtosis\n",
    "column = kurtosis[\"x\"]\n",
    " \n",
    "# hitung mean\n",
    "mean_normal = sum(column) / len(column)\n",
    "print(\"Mean Dataset Kurtosis: {:.3f}\".format(mean_normal))\n",
    "\n",
    "# hitung standar deviasi\n",
    "variance_normal = sum((i - mean_normal) ** 2 for i in column) / len(column)\n",
    "std_dev_normal = variance_normal ** 0.5\n",
    "print(\"Standar Deviasi Dataset Kurtosis: {:.3f}\".format(std_dev_normal))\n",
    "\n",
    "# hitung f(x)\n",
    "def normal_distribution(x, mean, std_dev):\n",
    "    eksponen_normal = (-(x - mean) ** 2) / (2 * std_dev ** 2)\n",
    "    persamaan_dist = (1 / (std_dev * ((2 * np.pi) ** 0.5))) * (np.exp(eksponen_normal))\n",
    "    return persamaan_dist\n",
    "\n",
    "# masukkan nilai ke dalam fungsi\n",
    "nilai_x = [normal_distribution(x, mean_normal, std_dev_normal) for x in column]\n",
    "print(\"Hasil Persamaan f(x) Dari Nilai x Yang Terdapat Pada Dataset Kurtosis :\")\n",
    "\n",
    "# tampilkan hasil persamaan f(x) dari x yang terdapat di dataset kurtosis\n",
    "for i in range(len(column)):\n",
    "    x = column[i]\n",
    "    fx = nilai_x[i]\n",
    "    print(\"|Nilai x: {:<6.2f} | Persamaan f(x): {:.5f}|\".format(x, fx))\n",
    "    \n",
    "# Hitung kurtosis\n",
    "kurtosis_value = sum((x - mean_normal) ** 4 for x in column) / (len(column) * (std_dev_normal ** 4))\n",
    "print(\"Kurtosis dari dataset adalah:\", kurtosis_value)\n"
   ]
  },
  {
   "cell_type": "code",
   "execution_count": null,
   "id": "aa1da53e",
   "metadata": {},
   "outputs": [],
   "source": [
    "# Mengambil nilai kurtosis\n",
    "kurtosis = kurtosis_value\n",
    "\n",
    "if kurtosis < 3:\n",
    "    decision = \"Platykurtic (ekor tipis)\"\n",
    "    explanation = \"Distribusi data memiliki kurtosis kurang dari 3, yang berarti ekornya sangat tipis dibandingkan dengan distribusi normal.\"\n",
    "elif kurtosis == 3:\n",
    "    decision = \"Mesokurtic\"\n",
    "    explanation = \"Distribusi data memiliki kurtosis sama dengan 3, yang menunjukkan bahwa distribusi ini mirip dengan distribusi normal.\"\n",
    "else:\n",
    "    decision = \"Leptokurtic (ekor tebal)\"\n",
    "    explanation = \"Distribusi data memiliki kurtosis lebih dari 3, yang menunjukkan distribusi ini menghasilkan lebih banyak outlier.\"\n",
    "\n",
    "print(\"Distribusi data mengarah ke:\", decision)\n",
    "print(\"Penjelasan:\", explanation)"
   ]
  },
  {
   "cell_type": "code",
   "execution_count": null,
   "id": "b9d17666",
   "metadata": {},
   "outputs": [],
   "source": [
    "plt.plot(column, nilai_x, marker='o', linestyle='-')\n",
    "plt.plot(column, nilai_x)\n",
    "plt.xlabel(\"Nilai x\")\n",
    "plt.ylabel(\"f(x)\")\n",
    "plt.title(\"Visualisasi Kurtosis\") \n",
    "plt.grid(True)\n",
    "plt.show()"
   ]
  },
  {
   "cell_type": "markdown",
   "id": "6c1493f4",
   "metadata": {},
   "source": [
    "### 2. Grouping Dataset: Pivoting Table"
   ]
  },
  {
   "cell_type": "markdown",
   "id": "fb002ab5",
   "metadata": {},
   "source": [
    "Lakukanlah pivoting tabel menggunakan kode script pemrograman Python pembelian bahan\n",
    "pokok makanan yang dikirimkan oleh supplier pada kuartal tertentu menjadi tabel berikut:"
   ]
  },
  {
   "cell_type": "markdown",
   "id": "6645a9d3",
   "metadata": {},
   "source": [
    "Pivoting Tabel Berdasarkan Jumlah Pembelian Bahan Pokok (kg) per Kuartal"
   ]
  },
  {
   "cell_type": "code",
   "execution_count": null,
   "id": "6333aaab",
   "metadata": {},
   "outputs": [],
   "source": [
    "import pandas as pd "
   ]
  },
  {
   "cell_type": "code",
   "execution_count": null,
   "id": "3adad1c9",
   "metadata": {
    "scrolled": true
   },
   "outputs": [],
   "source": [
    "import pandas as pd \n",
    "\n",
    "bp = pd.read_csv('data_bahan_pokok.csv', sep=';')\n",
    "bp"
   ]
  },
  {
   "cell_type": "code",
   "execution_count": null,
   "id": "c683d591",
   "metadata": {},
   "outputs": [],
   "source": [
    "# Fungsi ini membuat tabel pivot untuk item tertentu dari dataframe 'bp'\n",
    "def create_pivot_for_item(item_name, bp):\n",
    "    # Mengambil data yang hanya berisi item dengan nama yang sesuai\n",
    "    filtered_data = bp[bp['BARANG'] == item_name]\n",
    "    \n",
    "    # Membuat tabel pivot untuk item tersebut dengan jumlah ('JUMLAH') sebagai nilai yang dihitung\n",
    "    pivot = pd.pivot_table(filtered_data, values='JUMLAH', index='KUARTAL', columns='TAHUN', aggfunc='sum', fill_value=0,\n",
    "                           margins=True, margins_name='Grand Total')\n",
    "    \n",
    "    # Memilih kolom-kolom tahun tertentu dan baris-baris kuartal tertentu\n",
    "    pivot = pivot[[2015, 2016, 2017, 'Grand Total']].loc[['Kuartal 1', 'Kuartal 2', 'Kuartal 3', 'Kuartal 4', 'Grand Total']]\n",
    "    \n",
    "    # Menambahkan baris dengan nama item yang berisi nilai total dari 'Grand Total'\n",
    "    pivot.loc[item_name] = pivot.loc['Grand Total']\n",
    "    \n",
    "    # Mengembalikan tabel pivot yang sudah dimodifikasi sesuai dengan kebutuhan\n",
    "    return pivot.loc[[item_name, 'Kuartal 1', 'Kuartal 2', 'Kuartal 3', 'Kuartal 4']]\n",
    "\n",
    "# Mengambil item-item unik dari kolom 'BARANG'\n",
    "unique_items = bp['BARANG'].unique()\n",
    "\n",
    "# Mengurutkan item-item unik secara alfabetis\n",
    "sorted_items = sorted(unique_items)\n",
    "\n",
    "# Membuat tabel pivot untuk semua item dan menggabungkannya menjadi satu tabel besar\n",
    "sorted_pivot = pd.concat([create_pivot_for_item(item, bp) for item in sorted_items])\n",
    "\n",
    "# Mengubah nama sumbu baris menjadi \"Row Labels\" untuk hasil akhir\n",
    "sorted_pivot.rename_axis(\"Row Labels\", axis=1, inplace=True)\n",
    "\n",
    "# Menampilkan tabel pivot akhir\n",
    "sorted_pivot\n"
   ]
  },
  {
   "cell_type": "code",
   "execution_count": null,
   "id": "2da0432f",
   "metadata": {},
   "outputs": [],
   "source": [
    "def create_pivot_for_item(item_name, bp):\n",
    "    filtered_data = bp[bp['BARANG'] == item_name]\n",
    "    pivot = pd.pivot_table(filtered_data, values='JUMLAH', index='KUARTAL', columns='TAHUN', aggfunc='sum', fill_value=0,\n",
    "                           margins=True, margins_name='Grand Total')\n",
    "    pivot = pivot[[2015, 2016, 2017, 'Grand Total']].loc[['Kuartal 1', 'Kuartal 2', 'Kuartal 3', 'Kuartal 4', 'Grand Total']]\n",
    "    pivot.loc[item_name] = pivot.loc['Grand Total']\n",
    "    return pivot.loc[[item_name, 'Kuartal 1', 'Kuartal 2', 'Kuartal 3', 'Kuartal 4']]\n",
    "\n",
    "unique_items = bp['BARANG'].unique()\n",
    "\n",
    "sorted_items = sorted(unique_items)\n",
    "sorted_pivot = pd.concat([create_pivot_for_item(item, bp) for item in sorted_items])\n",
    "sorted_pivot.rename_axis(\"Row Labels\", axis=1, inplace=True)\n",
    "sorted_pivot"
   ]
  },
  {
   "cell_type": "markdown",
   "id": "58984ba3",
   "metadata": {},
   "source": [
    "Pivoting Tabel Berdasarkan Total Pembelian Bahan Pokok (Rupiah) per Kuartal"
   ]
  },
  {
   "cell_type": "code",
   "execution_count": null,
   "id": "c1f05a90",
   "metadata": {},
   "outputs": [],
   "source": [
    "def create_pivot_for_item(item_name, bp):\n",
    "   \n",
    "    bp['TOTAL'] = bp['TOTAL'].astype(str).str.replace('IDR', '', regex=False).str.replace('.', '', regex=False).astype(int)\n",
    "\n",
    "    filtered_data = bp[bp['BARANG'] == item_name]\n",
    "    pivot = pd.pivot_table(filtered_data, values='TOTAL', index='KUARTAL', columns='TAHUN', aggfunc='sum', fill_value=0, margins=True, margins_name='Grand Total')\n",
    "    pivot = pivot[[2015, 2016, 2017, 'Grand Total']].loc[['Kuartal 1', 'Kuartal 2', 'Kuartal 3', 'Kuartal 4', 'Grand Total']]\n",
    "    pivot.loc[item_name] = pivot.loc['Grand Total']\n",
    "    return pivot.loc[[item_name, 'Kuartal 1', 'Kuartal 2', 'Kuartal 3', 'Kuartal 4']]\n",
    "\n",
    "unique_items = bp['BARANG'].unique()\n",
    "\n",
    "sorted_items = sorted(unique_items)\n",
    "sorted_pivot = pd.concat([create_pivot_for_item(item, bp) for item in sorted_items])\n",
    "sorted_pivot.rename_axis(\"Row Labels\", axis=1, inplace=True)\n",
    "sorted_pivot\n"
   ]
  },
  {
   "cell_type": "code",
   "execution_count": null,
   "id": "23bfd696",
   "metadata": {},
   "outputs": [],
   "source": []
  }
 ],
 "metadata": {
  "kernelspec": {
   "display_name": "Python 3 (ipykernel)",
   "language": "python",
   "name": "python3"
  },
  "language_info": {
   "codemirror_mode": {
    "name": "ipython",
    "version": 3
   },
   "file_extension": ".py",
   "mimetype": "text/x-python",
   "name": "python",
   "nbconvert_exporter": "python",
   "pygments_lexer": "ipython3",
   "version": "3.9.12"
  }
 },
 "nbformat": 4,
 "nbformat_minor": 5
}
